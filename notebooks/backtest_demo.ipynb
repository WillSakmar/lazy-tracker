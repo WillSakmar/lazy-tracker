{
 "cells": [
  {
   "cell_type": "code",
   "execution_count": null,
   "metadata": {
    "vscode": {
     "languageId": "plaintext"
    }
   },
   "outputs": [],
   "source": [
    "{\n",
    "  \"cells\": [\n",
    "    {\n",
    "      \"cell_type\": \"code\",\n",
    "      \"execution_count\": null,\n",
    "      \"metadata\": {},\n",
    "      \"outputs\": [],\n",
    "      \"source\": [\n",
    "        \"import pandas as pd\\n\",\n",
    "        \"from scripts.fetch_data import fetch_price_data\\n\",\n",
    "        \"from app import simulate_portfolio\\n\",\n",
    "        \"\\n\",\n",
    "        \"# Parameters\\n\",\n",
    "        \"tickers = [\\\"VTI\\\", \\\"BND\\\"]\\n\",\n",
    "        \"start = \\\"2015-01-01\\\"\\n\",\n",
    "        \"end = \\\"2025-04-24\\\"\\n\",\n",
    "        \"\\n\",\n",
    "        \"# Fetch and simulate\\n\",\n",
    "        \"prices = fetch_price_data(tickers, start, end)\\n\",\n",
    "        \"perf = simulate_portfolio(prices, rebalance_period=\\\"M\\\")\\n\",\n",
    "        \"\\n\",\n",
    "        \"# Display first rows\\n\",\n",
    "        \"perf.head()\"\n",
    "      ]\n",
    "    }\n",
    "  ],\n",
    "  \"metadata\": {\n",
    "    \"kernelspec\": {\n",
    "      \"display_name\": \"Python 3\",\n",
    "      \"language\": \"python\",\n",
    "      \"name\": \"python3\"\n",
    "    },\n",
    "    \"language_info\": {\n",
    "      \"name\": \"python\",\n",
    "      \"version\": \"3.10\"\n",
    "    }\n",
    "  },\n",
    "  \"nbformat\": 4,\n",
    "  \"nbformat_minor\": 5\n",
    "}\n"
   ]
  }
 ],
 "metadata": {
  "language_info": {
   "name": "python"
  }
 },
 "nbformat": 4,
 "nbformat_minor": 2
}
